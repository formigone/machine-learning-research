{
 "cells": [
  {
   "cell_type": "code",
   "execution_count": 144,
   "metadata": {},
   "outputs": [],
   "source": [
    "%matplotlib inline\n",
    "import tensorflow as tf\n",
    "import numpy as np"
   ]
  },
  {
   "cell_type": "code",
   "execution_count": 149,
   "metadata": {},
   "outputs": [],
   "source": [
    "W = tf.Variable([0, 0, 0], dtype=tf.float32)\n",
    "b = tf.Variable([0], dtype=tf.float32)\n",
    "\n",
    "x = tf.placeholder(tf.float32, shape=(None, 3))\n",
    "y = tf.placeholder(tf.float32, shape=(None, 3))\n",
    "\n",
    "learning_rate = 0.01\n",
    "model = W * x + b\n",
    "loss = (1 / 2) * tf.reduce_sum(tf.square(model - y))\n",
    "optimizer = tf.train.GradientDescentOptimizer(learning_rate)\n",
    "train = optimizer.minimize(loss)"
   ]
  },
  {
   "cell_type": "code",
   "execution_count": 156,
   "metadata": {},
   "outputs": [
    {
     "name": "stdout",
     "output_type": "stream",
     "text": [
      "Loss: 219.0\nLoss: 35.0475\nLoss: 8.88722\nLoss: 3.93677\nLoss: 2.34923\nLoss: 1.57848\nLoss: 1.14034\nLoss: 0.87951\nLoss: 0.721146\nLoss: 0.623216\nLoss: 0.561145\nLoss: 0.520414\nLoss: 0.492422\nLoss: 0.472067\nLoss: 0.456319\nLoss: 0.443382\nLoss: 0.432185\nLoss: 0.422093\nLoss: 0.412727\nLoss: 0.403862\nLoss: 0.39536\nLoss: 0.387141\nLoss: 0.379153\nLoss: 0.371367\nLoss: 0.363762\nLoss: 0.356326\nLoss: 0.34905\nLoss: 0.341926\nLoss: 0.334951\nLoss: 0.328119\nLoss: 0.321429\nLoss: 0.314874\nLoss: 0.308454\nLoss: 0.302165\nLoss: 0.296004\nLoss: 0.28997\nLoss: 0.284057\nLoss: 0.278266\nLoss: 0.272593\nLoss: 0.267035\nLoss: 0.261591\nLoss: 0.256257\nLoss: 0.251033\nLoss: 0.245915\nLoss: 0.240901\nLoss: 0.23599\nLoss: 0.231178\nLoss: 0.226465\nLoss: 0.221848\nLoss: 0.217325\nLoss: 0.212894\nLoss: 0.208554\nLoss: 0.204302\nLoss: 0.200136\nLoss: 0.196056\nLoss: 0.192059\nLoss: 0.188143\nLoss: 0.184307\nLoss: 0.18055\nLoss: 0.176868\nLoss: 0.173263\nLoss: 0.16973\nLoss: 0.16627\nLoss: 0.16288\nLoss: 0.159559\nLoss: 0.156306\nLoss: 0.153119\nLoss: 0.149997\nLoss: 0.146939\nLoss: 0.143943\nLoss: 0.141009\nLoss: 0.138134\nLoss: 0.135317\nLoss: 0.132559\nLoss: 0.129856\nLoss: 0.127208\nLoss: 0.124615\nLoss: 0.122074\nLoss: 0.119585\nLoss: 0.117147\nLoss: 0.114759\nLoss: 0.112419\nLoss: 0.110127\nLoss: 0.107882\nLoss: 0.105682\nLoss: 0.103528\nLoss: 0.101417\nLoss: 0.0993494\nLoss: 0.0973238\nLoss: 0.0953396\nLoss: 0.0933958\nLoss: 0.0914916\nLoss: 0.0896264\nLoss: 0.087799\nLoss: 0.0860089\nLoss: 0.0842555\nLoss: 0.0825376\nLoss: 0.0808549\nLoss: 0.0792064\nLoss: 0.0775916\nLoss: 0.0760096\nLoss: 0.0744599\nLoss: 0.0729419\nLoss: 0.0714547\nLoss: 0.0699979\nLoss: 0.0685708\nLoss: 0.0671727\nLoss: 0.0658032\nLoss: 0.0644617\nLoss: 0.0631474\nLoss: 0.06186\nLoss: 0.0605987\nLoss: 0.0593632\nLoss: 0.0581529\nLoss: 0.0569674\nLoss: 0.0558059\nLoss: 0.0546681\nLoss: 0.0535535\nLoss: 0.0524617\nLoss: 0.051392\nLoss: 0.0503443\nLoss: 0.0493179\nLoss: 0.0483124\nLoss: 0.0473273\nLoss: 0.0463624\nLoss: 0.0454172\nLoss: 0.0444913\nLoss: 0.0435842\nLoss: 0.0426956\nLoss: 0.0418251\nLoss: 0.0409723\nLoss: 0.040137\nLoss: 0.0393187\nLoss: 0.0385171\nLoss: 0.0377318\nLoss: 0.0369625\nLoss: 0.0362089\nLoss: 0.0354707\nLoss: 0.0347475\nLoss: 0.0340391\nLoss: 0.0333451\nLoss: 0.0326653\nLoss: 0.0319993\nLoss: 0.0313469\nLoss: 0.0307078\nLoss: 0.0300817\nLoss: 0.0294684\nLoss: 0.0288676\nLoss: 0.028279\nLoss: 0.0277025\nLoss: 0.0271377\nLoss: 0.0265844\nLoss: 0.0260424\nLoss: 0.0255115\nLoss: 0.0249913\nLoss: 0.0244819\nLoss: 0.0239827\nLoss: 0.0234937\nLoss: 0.0230147\nLoss: 0.0225455\nLoss: 0.0220858\nLoss: 0.0216356\nLoss: 0.0211945\nLoss: 0.0207623\nLoss: 0.020339\nLoss: 0.0199244\nLoss: 0.0195181\nLoss: 0.0191202\nLoss: 0.0187304\nLoss: 0.0183485\nLoss: 0.0179744\nLoss: 0.017608\nLoss: 0.017249\nLoss: 0.0168973\nLoss: 0.0165528\nLoss: 0.0162154\nLoss: 0.0158847\nLoss: 0.0155609\nLoss: 0.0152436\nLoss: 0.0149328\nLoss: 0.0146284\nLoss: 0.0143301\nLoss: 0.014038\nLoss: 0.0137518\nLoss: 0.0134714\nLoss: 0.0131967\nLoss: 0.0129277\nLoss: 0.0126641\nLoss: 0.0124059\nLoss: 0.012153\nLoss: 0.0119052\nLoss: 0.0116625\nLoss: 0.0114247\nLoss: 0.0111918\nLoss: 0.0109636\nLoss: 0.0107401\nLoss: 0.0105211\nLoss: 0.0103066\nLoss: 0.0100965\nLoss: 0.00989066\nLoss: 0.00968901\nLoss: 0.00949147\nLoss: 0.00929797\nLoss: 0.00910839\nLoss: 0.00892269\nLoss: 0.00874078\nLoss: 0.00856258\nLoss: 0.00838799\nLoss: 0.00821699\nLoss: 0.00804945\nLoss: 0.00788535\nLoss: 0.00772459\nLoss: 0.0075671\nLoss: 0.00741281\nLoss: 0.00726168\nLoss: 0.00711364\nLoss: 0.00696859\nLoss: 0.00682653\nLoss: 0.00668734\nLoss: 0.00655101\nLoss: 0.00641743\nLoss: 0.00628658\nLoss: 0.00615842\nLoss: 0.00603286\nLoss: 0.00590987\nLoss: 0.00578936\nLoss: 0.00567135\nLoss: 0.0055557\nLoss: 0.00544245\nLoss: 0.00533149\nLoss: 0.00522279\nLoss: 0.00511632\nLoss: 0.005012\nLoss: 0.00490982\nLoss: 0.0048097\nLoss: 0.00471164\nLoss: 0.00461558\nLoss: 0.00452149\nLoss: 0.00442931\nLoss: 0.004339\nLoss: 0.00425054\nLoss: 0.00416388\nLoss: 0.00407898\nLoss: 0.00399583\nLoss: 0.00391436\nLoss: 0.00383456\nLoss: 0.00375637\nLoss: 0.00367978\nLoss: 0.00360476\nLoss: 0.00353127\nLoss: 0.00345928\nLoss: 0.00338875\nLoss: 0.00331966\nLoss: 0.00325197\nLoss: 0.00318566\nLoss: 0.00312073\nLoss: 0.0030571\nLoss: 0.00299477\nLoss: 0.0029337\nLoss: 0.00287391\nLoss: 0.00281529\nLoss: 0.0027579\nLoss: 0.00270168\nLoss: 0.0026466\nLoss: 0.00259264\nLoss: 0.00253978\nLoss: 0.00248801\nLoss: 0.00243727\nLoss: 0.00238759\nLoss: 0.00233891\nLoss: 0.00229122\nLoss: 0.0022445\nLoss: 0.00219874\nLoss: 0.00215392\nLoss: 0.00211001\nLoss: 0.00206698\nLoss: 0.00202484\nLoss: 0.00198356\nLoss: 0.00194313\nLoss: 0.0019035\nLoss: 0.00186469\nLoss: 0.00182668\nLoss: 0.00178943\nLoss: 0.00175295\nLoss: 0.0017172\nLoss: 0.00168221\nLoss: 0.00164791\nLoss: 0.0016143\nLoss: 0.00158139\nLoss: 0.00154915\nLoss: 0.00151757\nLoss: 0.00148662\nLoss: 0.00145631\nLoss: 0.00142663\nLoss: 0.00139754\nLoss: 0.00136905\nLoss: 0.00134113\nLoss: 0.0013138\nLoss: 0.00128701\nLoss: 0.00126077\nLoss: 0.00123507\nLoss: 0.00120989\nLoss: 0.00118522\nLoss: 0.00116106\nLoss: 0.00113738\nLoss: 0.0011142\nLoss: 0.00109147\nLoss: 0.00106922\nLoss: 0.00104742\nLoss: 0.00102607\nLoss: 0.00100515\nLoss: 0.000984657\nLoss: 0.000964578\nLoss: 0.000944919\nLoss: 0.000925647\nLoss: 0.000906777\nLoss: 0.000888288\nLoss: 0.000870182\nLoss: 0.000852434\nLoss: 0.000835055\nLoss: 0.000818032\nLoss: 0.000801354\nLoss: 0.000785017\nLoss: 0.000769013\nLoss: 0.000753335\nLoss: 0.000737978\nLoss: 0.000722927\nLoss: 0.000708189\nLoss: 0.000693753\nLoss: 0.000679605\nLoss: 0.000665749\nLoss: 0.000652175\nLoss: 0.000638885\n---\n[[  1.5   1.    7.5]\n [  3.    1.5  10. ]\n [  6.    2.5  15. ]]\n---\n[[  1.52057505   1.01454186   7.5110774 ]\n [  3.00947523   1.50597548  10.00421143]\n [  5.9872756    2.48884249  14.99047947]]\n"
     ]
    }
   ],
   "source": [
    "X = np.array([\n",
    "    [1, 2, 3],\n",
    "    [2, 3, 4],\n",
    "    [4, 5, 6],\n",
    "])\n",
    "Y = X * np.array([1.5, 0.5, 2.5])\n",
    "steps = []\n",
    "total_steps = 333\n",
    "\n",
    "init = tf.global_variables_initializer()\n",
    "with tf.Session() as session:\n",
    "    session.run(init)\n",
    "    for _ in range(total_steps):\n",
    "        t, l, m = session.run([train, loss, model], feed_dict={x: X, y: Y})\n",
    "        steps.append((l, m))\n",
    "\n",
    "p = None\n",
    "for l, m in steps:\n",
    "    print('Loss: ' + str(l))\n",
    "    p = m\n",
    "print('---')\n",
    "print(Y)\n",
    "print('---')\n",
    "print(p)"
   ]
  },
  {
   "cell_type": "code",
   "execution_count": null,
   "metadata": {},
   "outputs": [],
   "source": [
    ""
   ]
  }
 ],
 "metadata": {},
 "nbformat": 4,
 "nbformat_minor": 0
}