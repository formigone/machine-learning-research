{
 "cells": [
  {
   "cell_type": "code",
   "execution_count": 1,
   "metadata": {},
   "outputs": [],
   "source": [
    "%matplotlib inline\n",
    "import tensorflow as tf\n",
    "import numpy as np"
   ]
  },
  {
   "cell_type": "code",
   "execution_count": 42,
   "metadata": {},
   "outputs": [],
   "source": [
    "def gen_model(w, x_shape, y_shape, learning_rate=0.01):\n",
    "    W = tf.Variable(w, dtype=tf.float32)\n",
    "    b = tf.Variable([0], dtype=tf.float32)\n",
    "    \n",
    "    x = tf.placeholder(tf.float32, shape=x_shape)\n",
    "    y = tf.placeholder(tf.float32, shape=y_shape)\n",
    "    m = tf.placeholder(tf.float32)\n",
    "    \n",
    "    model = W * x + b\n",
    "    loss = (1 / (m * 2)) * tf.reduce_sum(tf.square(model - y))\n",
    "    optimizer = tf.train.GradientDescentOptimizer(learning_rate)\n",
    "    train = optimizer.minimize(loss)\n",
    "    \n",
    "    def train_loop(samples, labels, total_steps=1, verbose=False):\n",
    "        init = tf.global_variables_initializer()\n",
    "        with tf.Session() as session:\n",
    "            session.run(init)\n",
    "            _W = session.run(W)\n",
    "            _b = session.run(b)\n",
    "            _loss = None\n",
    "            for _ in range(total_steps):\n",
    "                t, _loss, _W, _b = session.run([train, loss, W, b], feed_dict={x: samples, y: labels, m: X.shape[0]})\n",
    "                if verbose:\n",
    "                    print('Model loss: ' + str(_loss))\n",
    "        return {\n",
    "            'W': _W,\n",
    "            'b': _b,\n",
    "            'loss': _loss,\n",
    "        }\n",
    "\n",
    "    return {\n",
    "        'train': train_loop,\n",
    "    }"
   ]
  },
  {
   "cell_type": "code",
   "execution_count": 44,
   "metadata": {},
   "outputs": [
    {
     "name": "stdout",
     "output_type": "stream",
     "text": [
      "Model loss: 73.0\nModel loss: 46.251\nModel loss: 29.5753\nModel loss: 19.1411\nModel loss: 12.5798\nModel loss: 8.42684\nModel loss: 5.77555\nModel loss: 4.06413\nModel loss: 2.94388\nModel loss: 2.19796\n{'W': array([ 0.68913627,  0.26780674,  2.13325477], dtype=float32), 'b': array([ 0.73586434], dtype=float32), 'loss': 2.1979618}\n"
     ]
    }
   ],
   "source": [
    "X = np.array([\n",
    "    [1, 2, 3],\n",
    "    [2, 3, 4],\n",
    "    [4, 5, 6],\n",
    "])\n",
    "Y = X * np.array([1.5, 0.5, 2.5])\n",
    "\n",
    "model = gen_model([0, 0, 0], (None, 3), (None, 3))\n",
    "res = model['train'](X, Y, total_steps=10, verbose=True)\n",
    "print(res)"
   ]
  },
  {
   "cell_type": "code",
   "execution_count": null,
   "metadata": {},
   "outputs": [],
   "source": [
    ""
   ]
  }
 ],
 "metadata": {},
 "nbformat": 4,
 "nbformat_minor": 0
}