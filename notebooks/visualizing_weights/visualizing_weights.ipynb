{
 "cells": [
  {
   "cell_type": "code",
   "execution_count": 108,
   "metadata": {},
   "outputs": [],
   "source": [
    "%matplotlib inline\n",
    "import tensorflow as tf\n",
    "import numpy as np\n",
    "import matplotlib.pyplot as plt"
   ]
  },
  {
   "cell_type": "code",
   "execution_count": 129,
   "metadata": {},
   "outputs": [],
   "source": [
    "class Model(object):\n",
    "    def train(self, samples, labels, steps=1): pass\n",
    "\n",
    "\n",
    "class LinearModel(Model):\n",
    "    def __init__(self, x_shape, y_shape, model_dir, learning_rate=0.01):\n",
    "        self.W = tf.Variable([0 for _ in range(x_shape[1])], dtype=tf.float32)\n",
    "        self.b = tf.Variable([0], dtype=tf.float32)\n",
    "        \n",
    "        self.x = tf.placeholder(tf.float32, shape=x_shape)\n",
    "        self.y = tf.placeholder(tf.float32, shape=y_shape)\n",
    "        self.m = tf.placeholder(tf.float32)\n",
    "\n",
    "        self.model = self.W * self.x + self.b\n",
    "        self.loss = (1 / (self.m * 2)) * tf.reduce_sum(tf.square(self.model - self.y))\n",
    "        self.optimizer = tf.train.GradientDescentOptimizer(learning_rate)\n",
    "        self.minimize = self.optimizer.minimize(self.loss)\n",
    "        \n",
    "        self.model_dir = model_dir\n",
    "    \n",
    "    def train(self, samples, labels, steps=1):\n",
    "        init = tf.global_variables_initializer()\n",
    "        loss = []\n",
    "        saver = tf.train.Saver()\n",
    "        with tf.Session() as session:\n",
    "            session.run(init)\n",
    "            W = session.run(self.W)\n",
    "            b = session.run(self.b)\n",
    "            for _ in range(steps):\n",
    "                t, l, W, b = session.run([self.minimize, self.loss, self.W, self.b],\n",
    "                                         feed_dict={\n",
    "                                             self.x: samples, \n",
    "                                             self.y: labels, \n",
    "                                             self.m: samples.shape[0]\n",
    "                                         })\n",
    "                loss.append(l)\n",
    "            # saver.save(session, self.model_dir)\n",
    "        return {'loss': loss, 'W': W, 'b': b}\n",
    "    \n",
    "    def predict(self, input):\n",
    "        saver = tf.train.Saver()\n",
    "        with tf.Session() as session:\n",
    "            saver.restore(session, self.model_dir)\n",
    "            return session.run([self.model], feed_dict={self.x: input})"
   ]
  },
  {
   "cell_type": "code",
   "execution_count": 132,
   "metadata": {
    "collapsed": false
   },
   "outputs": [
    {
     "data": {
      "image/png": "[encoded data removed]",
      "text/plain": [
       "<matplotlib.figure.Figure at 0x12b443160>"
      ]
     },
     "metadata": {},
     "output_type": "display_data"
    }
   ],
   "source": [
    "n = 10\n",
    "X = np.array([\n",
    "    [i for i in range(n)],\n",
    "])\n",
    "X_std = (X - np.mean(X, axis=1)) / np.std(X, axis=1)\n",
    "Y = X * np.array([i for i in range(n)])\n",
    "steps = 10\n",
    "\n",
    "f, (ax1, ax2) = plt.subplots(1, 2, sharey=True, sharex=True)\n",
    "model = LinearModel((None, n), (None, n), './sessions/model')\n",
    "model_std = LinearModel((None, n), (None, n), './sessions/model_std')\n",
    "\n",
    "res = model.train(X, Y, steps=steps)\n",
    "ax1.plot(res['loss'])\n",
    "ax1.set_title('X - raw')\n",
    "res = model_std.train(X_std, Y, steps=steps)\n",
    "ax2.plot(res['loss'])\n",
    "ax2.set_title('X - normalized')\n",
    "\n",
    "plt.show()\n",
    "\n",
    "# print(model.predict(X))\n",
    "# print(model.predict(X_std))\n",
    "# print(Y)"
   ]
  },
  {
   "cell_type": "code",
   "execution_count": null,
   "metadata": {},
   "outputs": [],
   "source": [
    ""
   ]
  }
 ],
 "metadata": {},
 "nbformat": 4,
 "nbformat_minor": 0
}