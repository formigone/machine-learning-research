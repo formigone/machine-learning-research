{
 "cells": [
  {
   "cell_type": "code",
   "execution_count": 2,
   "metadata": {},
   "outputs": [],
   "source": [
    "%matplotlib inline\n",
    "import tensorflow as tf\n",
    "import numpy as np\n",
    "import matplotlib.pyplot as plt"
   ]
  },
  {
   "cell_type": "code",
   "execution_count": 67,
   "metadata": {},
   "outputs": [],
   "source": [
    "class Model(object):\n",
    "    def train(self, samples, labels, steps=1): pass\n",
    "\n",
    "\n",
    "class LinearModel(Model):\n",
    "    def __init__(self, x_shape, y_shape, model_dir=None, learning_rate=0.01):\n",
    "        self.W = tf.Variable(np.random.random([1, x_shape[1]]), dtype=tf.float32, name='W')\n",
    "        self.b = tf.Variable([0], dtype=tf.float32, name='b')\n",
    "        \n",
    "        self.x = tf.placeholder(tf.float32, shape=x_shape, name='x')\n",
    "        self.y = tf.placeholder(tf.float32, shape=y_shape, name='y')\n",
    "        self.m = tf.placeholder(tf.float32, shape=(), name='m')\n",
    "\n",
    "        self.model = tf.transpose(self.W) * self.x + self.b\n",
    "        self.loss = (1 / (self.m * 2)) * tf.reduce_sum(tf.square(self.model - self.y))\n",
    "        self.optimizer = tf.train.GradientDescentOptimizer(learning_rate)\n",
    "        self.minimize = self.optimizer.minimize(self.loss)\n",
    "        \n",
    "        self.model_dir = model_dir\n",
    "    \n",
    "    def train(self, samples, labels, steps=1):\n",
    "        init = tf.global_variables_initializer()\n",
    "        loss = []\n",
    "        saver = tf.train.Saver()\n",
    "        with tf.Session() as session:\n",
    "            session.run(init)\n",
    "            W = session.run(self.W)\n",
    "            b = session.run(self.b)\n",
    "            for _ in range(steps):\n",
    "                t, l, W, b = session.run([self.minimize, self.loss, self.W, self.b],\n",
    "                                         feed_dict={\n",
    "                                             self.x: samples, \n",
    "                                             self.y: labels, \n",
    "                                             self.m: samples.shape[0]\n",
    "                                         })\n",
    "                loss.append(l)\n",
    "            \n",
    "            if self.model_dir is not None:\n",
    "                saver.save(session, self.model_dir)\n",
    "        return {'loss': loss, 'W': W, 'b': b}\n",
    "    \n",
    "    def predict(self, input):\n",
    "        saver = tf.train.Saver()\n",
    "        with tf.Session() as session:\n",
    "            if self.model_dir is not None:\n",
    "                saver.restore(session, self.model_dir)\n",
    "            return session.run([self.model], feed_dict={self.x: input})"
   ]
  },
  {
   "cell_type": "code",
   "execution_count": 149,
   "metadata": {},
   "outputs": [
    {
     "name": "stdout",
     "output_type": "stream",
     "text": [
      "X range: [0 0], [9 9]\nX std range: [-1.5666989 -1.5666989], [ 1.5666989  1.5666989]\nX norm range: [ 0.  0.], [ 1.  1.]\n"
     ]
    },
    {
     "data": {
      "image/png": "[encoded data removed]",
      "text/plain": [
       "<matplotlib.figure.Figure at 0x12a9ae160>"
      ]
     },
     "metadata": {},
     "output_type": "display_data"
    },
    {
     "data": {
      "image/png": "[encoded data removed]",
      "text/plain": [
       "<matplotlib.figure.Figure at 0x12d291908>"
      ]
     },
     "metadata": {},
     "output_type": "display_data"
    }
   ],
   "source": [
    "n = 10\n",
    "X = np.array([[y, x] for y in range(n) for x in range(n)])\n",
    "X_std = (X - np.mean(X, axis=0)) / np.std(X, axis=0)\n",
    "X_norm = (X - np.min(X, axis=0)) / (np.max(X, axis=0) - np.min(X, axis=0))\n",
    "Y = np.array([[255 if i % 2 == 0 else 0] for i in range(X.shape[0])])\n",
    "\n",
    "f, (ax1, ax2, ax3) = plt.subplots(1, 3, sharey=True)\n",
    "height = range(n * n)\n",
    "ax1.bar(height, X[:, 0])\n",
    "ax1.set_title('X - raw')\n",
    "ax2.bar(height, X_std[:, 0])\n",
    "ax2.set_title('X - standardized')\n",
    "ax3.bar(height, X_norm[:, 0])\n",
    "ax3.set_title('X - normalized')\n",
    "\n",
    "f, (ax1, ax2) = plt.subplots(1, 2, sharey=True)\n",
    "ax1.bar(height, X_std[:, 0])\n",
    "ax1.set_title('X - standardized')\n",
    "ax2.bar(height, X_norm[:, 0])\n",
    "ax2.set_title('X - normalized')\n",
    "\n",
    "print('X range: %s, %s' % (X.min(axis=0), X.max(axis=0)))\n",
    "print('X std range: %s, %s' % (X_std.min(axis=0), X_std.max(axis=0)))\n",
    "print('X norm range: %s, %s' % (X_norm.min(axis=0), X_norm.max(axis=0)))"
   ]
  },
  {
   "cell_type": "code",
   "execution_count": 83,
   "metadata": {
    "collapsed": true
   },
   "outputs": [
    {
     "data": {
      "image/png": "[encoded data removed]",
      "text/plain": [
       "<matplotlib.figure.Figure at 0x11f86ccc0>"
      ]
     },
     "metadata": {},
     "output_type": "display_data"
    }
   ],
   "source": [
    "steps = 5\n",
    "\n",
    "f, (ax1, ax2, ax3) = plt.subplots(1, 3, sharey=True, sharex=True)\n",
    "model = LinearModel((None, X.shape[1]), (None, Y.shape[1]), './sessions/model')\n",
    "model_std = LinearModel((None, X.shape[1]), (None, Y.shape[1]), './sessions/model_std')\n",
    "model_norm = LinearModel((None, X.shape[1]), (None, Y.shape[1]), './sessions/model_norm')\n",
    "\n",
    "res = model.train(X, Y, steps=steps)\n",
    "ax1.plot(res['loss'])\n",
    "ax1.set_title('X - raw')\n",
    "res = model_std.train(X_std, Y, steps=steps)\n",
    "ax2.plot(res['loss'])\n",
    "ax2.set_title('X - standardized')\n",
    "res = model_std.train(X_norm, Y, steps=steps)\n",
    "ax3.plot(res['loss'])\n",
    "ax3.set_title('X - normalized')\n",
    "\n",
    "plt.show()\n",
    "\n",
    "# print(model.predict(X))\n",
    "# print(model.predict(X_std))\n",
    "# print(Y)"
   ]
  },
  {
   "cell_type": "code",
   "execution_count": 91,
   "metadata": {},
   "outputs": [
    {
     "data": {
      "text/plain": [
       "[<matplotlib.lines.Line2D at 0x11744d1d0>]"
      ]
     },
     "execution_count": 91,
     "metadata": {},
     "output_type": "execute_result"
    },
    {
     "data": {
      "image/png": "[encoded data removed]",
      "text/plain": [
       "<matplotlib.figure.Figure at 0x115072748>"
      ]
     },
     "metadata": {},
     "output_type": "display_data"
    }
   ],
   "source": [
    "n = 6\n",
    "x = np.zeros((n**2, n**2))\n",
    "np.fill_diagonal(x, 1)\n",
    "y = np.random.random([n**2, 1])\n",
    "model = LinearModel((None, x.shape[1]), (None, y.shape[1]), None, learning_rate=0.001)\n",
    "out = model.train(x, y, steps=10)\n",
    "\n",
    "# print(out)\n",
    "\n",
    "_, ((ax1, ax2), (ax3, _)) = plt.subplots(2, 2)\n",
    "\n",
    "w = np.array(out['W']).reshape((n, n))\n",
    "# w = (w - np.min(w)) / (np.max(x) - np.min(x))\n",
    "ax1.imshow(y.reshape((n, n)), cmap='gray')\n",
    "ax1.set_title('Y')\n",
    "ax2.imshow(w, cmap='gray')\n",
    "ax2.set_title('W')\n",
    "\n",
    "ax3.plot(out['loss'])"
   ]
  },
  {
   "cell_type": "code",
   "execution_count": 160,
   "metadata": {
    "collapsed": true
   },
   "outputs": [
    {
     "name": "stdout",
     "output_type": "stream",
     "text": [
      "[ 0.          0.00247207  0.00494413  0.00741619]\n"
     ]
    },
    {
     "data": {
      "text/plain": [
       "<matplotlib.image.AxesImage at 0x1312f2f28>"
      ]
     },
     "execution_count": 160,
     "metadata": {},
     "output_type": "execute_result"
    },
    {
     "data": {
      "image/png": "[encoded data removed]",
      "text/plain": [
       "<matplotlib.figure.Figure at 0x12e26a358>"
      ]
     },
     "metadata": {},
     "output_type": "display_data"
    }
   ],
   "source": [
    "w = np.array([-0.00060266,  0.00186941,  0.00434147,  0.00681353])\n",
    "w = (w - np.min(w)) / (np.max(x) - np.min(x))\n",
    "print(w)\n",
    "plt.imshow(w.reshape((2,2)), cmap='gray')"
   ]
  },
  {
   "cell_type": "code",
   "execution_count": 63,
   "metadata": {},
   "outputs": [
    {
     "name": "stdout",
     "output_type": "stream",
     "text": [
      "[[ 0.97508704  0.93973576  0.16827359  0.09502356  0.11700013  0.4349246 ]\n [ 0.24756717  0.26934919  0.20499766  0.7705237   0.21291253  0.77538421]\n [ 0.34313697  0.70009158  0.21590426  0.27517072  0.41043141  0.11120889]\n [ 0.88881777  0.30056191  0.22260741  0.90908076  0.07666221  0.3558375 ]\n [ 0.76722365  0.81190275  0.01607107  0.78305913  0.47283304  0.37485045]\n [ 0.69689522  0.92245562  0.76577517  0.69115714  0.83123167  0.87558379]]\n"
     ]
    },
    {
     "data": {
      "text/plain": [
       "<matplotlib.image.AxesImage at 0x111e16a58>"
      ]
     },
     "execution_count": 63,
     "metadata": {},
     "output_type": "execute_result"
    },
    {
     "data": {
      "image/png": "[encoded data removed]",
      "text/plain": [
       "<matplotlib.figure.Figure at 0x111df4b38>"
      ]
     },
     "metadata": {},
     "output_type": "display_data"
    }
   ],
   "source": [
    "w = np.array([[-4.61950025e-04, -3.78639845e-04, -2.95329693e-04,\n",
    "               -2.12019484e-04, -1.28709304e-04, -4.53991088e-05,\n",
    "               3.79110861e-05, 1.21221252e-04, 2.04531447e-04,\n",
    "               2.87841627e-04, 3.71151837e-04, 4.54462017e-04,\n",
    "               5.37772197e-04, 6.21082319e-04, 7.04392616e-04,\n",
    "               7.87702738e-04, 8.71012919e-04, 9.54323157e-04,\n",
    "               1.03763328e-03, 1.12094346e-03, 1.20425364e-03,\n",
    "               1.28756394e-03, 1.37087412e-03, 1.45418418e-03,\n",
    "               1.53749448e-03, 1.62080466e-03, 1.70411461e-03,\n",
    "               1.78742502e-03, 1.87073520e-03, 1.95404561e-03,\n",
    "               2.03735544e-03, 2.12066574e-03, 2.20397604e-03,\n",
    "               2.28728587e-03, 2.37059640e-03, 2.45390646e-03]])\n",
    "\n",
    "w2 = np.random.random([6, 6])\n",
    "\n",
    "print(w2)\n",
    "_, (ax1, ax2) = plt.subplots(1, 2)\n",
    "ax1.imshow(w.reshape((6, 6)), cmap='gray')\n",
    "ax2.imshow(w2.reshape((6, 6)), cmap='gray')"
   ]
  },
  {
   "cell_type": "code",
   "execution_count": null,
   "metadata": {},
   "outputs": [],
   "source": [
    ""
   ]
  }
 ],
 "metadata": {},
 "nbformat": 4,
 "nbformat_minor": 0
}