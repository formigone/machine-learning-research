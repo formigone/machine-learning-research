{
 "cells": [
  {
   "cell_type": "markdown",
   "metadata": {
    "collapsed": true
   },
   "source": [
    "# The effects of normalizing input on gradient descent\n",
    "\n",
    "The following experiment explores the effects that normalizing the training data (as well as subsequent input used in inference) has on gradient descent. The common advice has been to normalize the input so that gradient descent converges faster. While I believe what has been said about it, I'm not sure I understand why this is."
   ]
  },
  {
   "cell_type": "code",
   "execution_count": 24,
   "metadata": {},
   "outputs": [],
   "source": [
    "%matplotlib inline\n",
    "import matplotlib.pyplot as plt\n",
    "from IPython.core.display import display, Markdown\n",
    "import statistics as stats\n",
    "import tensorflow as tf"
   ]
  },
  {
   "cell_type": "code",
   "execution_count": 34,
   "metadata": {
    "collapsed": false
   },
   "outputs": [
    {
     "data": {
      "text/plain": [
       "<Container object of 6 artists>"
      ]
     },
     "execution_count": 34,
     "metadata": {},
     "output_type": "execute_result"
    },
    {
     "data": {
      "image/png": "[encoded data removed]",
      "text/plain": [
       "<matplotlib.figure.Figure at 0x114926ef0>"
      ]
     },
     "metadata": {},
     "output_type": "display_data"
    },
    {
     "data": {
      "image/png": "[encoded data removed]",
      "text/plain": [
       "<matplotlib.figure.Figure at 0x1142cdf28>"
      ]
     },
     "metadata": {},
     "output_type": "display_data"
    }
   ],
   "source": [
    "def scale(data):\n",
    "    data_min = min(data)\n",
    "    data_max = max(data)\n",
    "    data_range = data_max - data_min\n",
    "    \n",
    "    return [(item - data_min) / data_range for item in data]\n",
    "\n",
    "\n",
    "def std_score(data):\n",
    "    mean = stats.mean(data)\n",
    "    std_dev = stats.pstdev(data)\n",
    "    \n",
    "    return [(item - mean) / std_dev for item in data]\n",
    "    \n",
    "    \n",
    "X = [4, 8, 15, 16, 23, 42]\n",
    "X_norm = scale(X)\n",
    "X_std = std_score(X)\n",
    "Y = [x / 2 for x in X]\n",
    "\n",
    "f, (ax1, ax2, ax3) = plt.subplots(1, 3, sharey=True)\n",
    "height = range(len(X))\n",
    "ax1.bar(height, X)\n",
    "ax2.bar(height, X_norm)\n",
    "ax3.bar(height, X_std)\n",
    "\n",
    "f, (ax1, ax2) = plt.subplots(1, 2, sharey=True)\n",
    "height = range(len(X))\n",
    "ax1.bar(height, X_norm)\n",
    "ax2.bar(height, X_std)"
   ]
  },
  {
   "cell_type": "code",
   "execution_count": 35,
   "metadata": {},
   "outputs": [
    {
     "data": {
      "text/markdown": [
       "|  |  |\n|---|---|---|---|---|\n| X | 4 | 8 | 15 | 16 | 23 | 42 | \n| scaled | 0.0 | 0.11 | 0.29 | 0.32 | 0.5 | 1.0 | \n| std dev | -1.14 | -0.81 | -0.24 | -0.16 | 0.41 | 1.95 | \n| Y | 2.0 | 4.0 | 7.5 | 8.0 | 11.5 | 21.0 | \n"
      ],
      "text/plain": [
       "<IPython.core.display.Markdown object>"
      ]
     },
     "metadata": {},
     "output_type": "display_data"
    }
   ],
   "source": [
    "def short_print(data):\n",
    "    md = ''\n",
    "    for label, val in data.items():\n",
    "        if md == '':\n",
    "            md = '|  |  |\\n|' + '---|'.join(['' for i in val]) + '\\n'\n",
    "        md += '| ' + label + ' | '\n",
    "        for i in val:\n",
    "            md += str(round(i, 2)) + ' | '\n",
    "        md += '\\n'\n",
    "    display(Markdown(md))\n",
    "\n",
    "short_print({'X': X, 'scaled': X_norm, 'std dev': X_std, 'Y': Y})"
   ]
  },
  {
   "cell_type": "code",
   "execution_count": 42,
   "metadata": {},
   "outputs": [
    {
     "name": "stdout",
     "output_type": "stream",
     "text": [
      "[array([[-0.2       ],\n       [-0.40000001],\n       [-0.75      ],\n       [-0.80000001],\n       [-1.14999998],\n       [-2.10000014]], dtype=float32), array([[-0.40000001],\n       [-0.80000001],\n       [-1.5       ],\n       [-1.60000002],\n       [-2.29999995],\n       [-4.20000029]], dtype=float32), array([[-0.60000002],\n       [-1.20000005],\n       [-2.25      ],\n       [-2.4000001 ],\n       [-3.44999981],\n       [-6.30000019]], dtype=float32)]\n"
     ]
    }
   ],
   "source": [
    "x = tf.placeholder(tf.float32, shape=[1, len(X)])\n",
    "y_ = tf.placeholder(tf.float32, shape=[1, len(Y)])\n",
    "\n",
    "W = tf.Variable(tf.zeros([len(X), 1]))\n",
    "cost = tf.matmul(x, W)\n",
    "\n",
    "optimizer = tf.train.GradientDescentOptimizer(0.05)\n",
    "train = optimizer.minimize(cost)\n",
    "\n",
    "init = tf.global_variables_initializer()\n",
    "\n",
    "\n",
    "def train_step(steps=1):\n",
    "    log = []\n",
    "    with tf.Session() as session:\n",
    "        session.run(init)\n",
    "        \n",
    "        for _ in range(steps):\n",
    "            session.run(train, feed_dict={x: [X], y_: [Y]})\n",
    "            log.append(session.run(W))\n",
    "    return log\n",
    "\n",
    "out = train_step(steps=3)\n",
    "print(out)"
   ]
  },
  {
   "cell_type": "code",
   "execution_count": 47,
   "metadata": {},
   "outputs": [
    {
     "name": "stdout",
     "output_type": "stream",
     "text": [
      "1.0\n1.0\n1.0\n1.0\n1.0\n1.0\n1.0\n1.0\n1.0\n1.0\n1.0\n"
     ]
    }
   ],
   "source": [
    "W2 = tf.Variable(0, dtype=tf.float32)\n",
    "x2 = tf.placeholder(tf.float32)\n",
    "\n",
    "# \n",
    "model = tf.add(W2, x2)\n",
    "\n",
    "init = tf.global_variables_initializer()\n",
    "\n",
    "with tf.Session() as session:\n",
    "    session.run(init)\n",
    "    print(session.run(W2))\n",
    "    for i in range(10):\n",
    "        session.run(model, feed_dict={x2: i})\n",
    "        print(session.run(W2))"
   ]
  },
  {
   "cell_type": "code",
   "execution_count": null,
   "metadata": {},
   "outputs": [],
   "source": [
    ""
   ]
  }
 ],
 "metadata": {
  "kernelspec": {
   "display_name": "Python 2",
   "language": "python",
   "name": "python2"
  },
  "language_info": {
   "codemirror_mode": {
    "name": "ipython",
    "version": 2.0
   },
   "file_extension": ".py",
   "mimetype": "text/x-python",
   "name": "python",
   "nbconvert_exporter": "python",
   "pygments_lexer": "ipython2",
   "version": "2.7.6"
  }
 },
 "nbformat": 4,
 "nbformat_minor": 0
}